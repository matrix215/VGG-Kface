{
  "cells": [
    {
      "cell_type": "code",
      "execution_count": null,
      "metadata": {
        "colab": {
          "base_uri": "https://localhost:8080/"
        },
        "id": "WH63Vx1wK972",
        "outputId": "b349931e-2963-471a-89ad-960d94ddabe5"
      },
      "outputs": [
        {
          "output_type": "stream",
          "name": "stdout",
          "text": [
            "Cloning into 'deepface'...\n",
            "remote: Enumerating objects: 4315, done.\u001b[K\n",
            "remote: Counting objects: 100% (1359/1359), done.\u001b[K\n",
            "remote: Compressing objects: 100% (185/185), done.\u001b[K\n",
            "remote: Total 4315 (delta 1251), reused 1182 (delta 1174), pack-reused 2956\u001b[K\n",
            "Receiving objects: 100% (4315/4315), 49.82 MiB | 16.29 MiB/s, done.\n",
            "Resolving deltas: 100% (2736/2736), done.\n"
          ]
        }
      ],
      "source": [
        "!git clone https://github.com/matrix215/deepface.git"
      ]
    },
    {
      "cell_type": "code",
      "execution_count": null,
      "metadata": {
        "colab": {
          "base_uri": "https://localhost:8080/"
        },
        "id": "k6XuPNWlSf2a",
        "outputId": "c20d2667-a066-4d5b-e1dc-52b75e9695bc"
      },
      "outputs": [
        {
          "output_type": "stream",
          "name": "stdout",
          "text": [
            "/content/deepface\n"
          ]
        }
      ],
      "source": [
        "%cd deepface"
      ]
    },
    {
      "cell_type": "code",
      "execution_count": null,
      "metadata": {
        "colab": {
          "base_uri": "https://localhost:8080/"
        },
        "id": "GFgOGljAYCfJ",
        "outputId": "374f1947-3316-4687-9ab7-74e92cdae9b6"
      },
      "outputs": [
        {
          "output_type": "stream",
          "name": "stdout",
          "text": [
            "Obtaining file:///content/deepface\n",
            "  Preparing metadata (setup.py) ... \u001b[?25l\u001b[?25hdone\n",
            "Requirement already satisfied: numpy>=1.14.0 in /usr/local/lib/python3.10/dist-packages (from deepface==0.0.79) (1.23.5)\n",
            "Requirement already satisfied: pandas>=0.23.4 in /usr/local/lib/python3.10/dist-packages (from deepface==0.0.79) (1.5.3)\n",
            "Requirement already satisfied: gdown>=3.10.1 in /usr/local/lib/python3.10/dist-packages (from deepface==0.0.79) (4.6.6)\n",
            "Requirement already satisfied: tqdm>=4.30.0 in /usr/local/lib/python3.10/dist-packages (from deepface==0.0.79) (4.66.1)\n",
            "Requirement already satisfied: Pillow>=5.2.0 in /usr/local/lib/python3.10/dist-packages (from deepface==0.0.79) (9.4.0)\n",
            "Requirement already satisfied: opencv-python>=4.5.5.64 in /usr/local/lib/python3.10/dist-packages (from deepface==0.0.79) (4.8.0.76)\n",
            "Requirement already satisfied: tensorflow>=1.9.0 in /usr/local/lib/python3.10/dist-packages (from deepface==0.0.79) (2.12.0)\n",
            "Requirement already satisfied: keras>=2.2.0 in /usr/local/lib/python3.10/dist-packages (from deepface==0.0.79) (2.12.0)\n",
            "Requirement already satisfied: Flask>=1.1.2 in /usr/local/lib/python3.10/dist-packages (from deepface==0.0.79) (2.2.5)\n",
            "Collecting mtcnn>=0.1.0 (from deepface==0.0.79)\n",
            "  Downloading mtcnn-0.1.1-py3-none-any.whl (2.3 MB)\n",
            "\u001b[2K     \u001b[90m━━━━━━━━━━━━━━━━━━━━━━━━━━━━━━━━━━━━━━━━\u001b[0m \u001b[32m2.3/2.3 MB\u001b[0m \u001b[31m28.3 MB/s\u001b[0m eta \u001b[36m0:00:00\u001b[0m\n",
            "\u001b[?25hCollecting retina-face>=0.0.1 (from deepface==0.0.79)\n",
            "  Downloading retina_face-0.0.13-py3-none-any.whl (16 kB)\n",
            "Collecting fire>=0.4.0 (from deepface==0.0.79)\n",
            "  Downloading fire-0.5.0.tar.gz (88 kB)\n",
            "\u001b[2K     \u001b[90m━━━━━━━━━━━━━━━━━━━━━━━━━━━━━━━━━━━━━━━━\u001b[0m \u001b[32m88.3/88.3 kB\u001b[0m \u001b[31m10.4 MB/s\u001b[0m eta \u001b[36m0:00:00\u001b[0m\n",
            "\u001b[?25h  Preparing metadata (setup.py) ... \u001b[?25l\u001b[?25hdone\n",
            "Collecting gunicorn>=20.1.0 (from deepface==0.0.79)\n",
            "  Downloading gunicorn-21.2.0-py3-none-any.whl (80 kB)\n",
            "\u001b[2K     \u001b[90m━━━━━━━━━━━━━━━━━━━━━━━━━━━━━━━━━━━━━━━━\u001b[0m \u001b[32m80.2/80.2 kB\u001b[0m \u001b[31m9.5 MB/s\u001b[0m eta \u001b[36m0:00:00\u001b[0m\n",
            "\u001b[?25hCollecting Deprecated>=1.2.13 (from deepface==0.0.79)\n",
            "  Downloading Deprecated-1.2.14-py2.py3-none-any.whl (9.6 kB)\n",
            "Requirement already satisfied: wrapt<2,>=1.10 in /usr/local/lib/python3.10/dist-packages (from Deprecated>=1.2.13->deepface==0.0.79) (1.14.1)\n",
            "Requirement already satisfied: six in /usr/local/lib/python3.10/dist-packages (from fire>=0.4.0->deepface==0.0.79) (1.16.0)\n",
            "Requirement already satisfied: termcolor in /usr/local/lib/python3.10/dist-packages (from fire>=0.4.0->deepface==0.0.79) (2.3.0)\n",
            "Requirement already satisfied: Werkzeug>=2.2.2 in /usr/local/lib/python3.10/dist-packages (from Flask>=1.1.2->deepface==0.0.79) (2.3.7)\n",
            "Requirement already satisfied: Jinja2>=3.0 in /usr/local/lib/python3.10/dist-packages (from Flask>=1.1.2->deepface==0.0.79) (3.1.2)\n",
            "Requirement already satisfied: itsdangerous>=2.0 in /usr/local/lib/python3.10/dist-packages (from Flask>=1.1.2->deepface==0.0.79) (2.1.2)\n",
            "Requirement already satisfied: click>=8.0 in /usr/local/lib/python3.10/dist-packages (from Flask>=1.1.2->deepface==0.0.79) (8.1.7)\n",
            "Requirement already satisfied: filelock in /usr/local/lib/python3.10/dist-packages (from gdown>=3.10.1->deepface==0.0.79) (3.12.2)\n",
            "Requirement already satisfied: requests[socks] in /usr/local/lib/python3.10/dist-packages (from gdown>=3.10.1->deepface==0.0.79) (2.31.0)\n",
            "Requirement already satisfied: beautifulsoup4 in /usr/local/lib/python3.10/dist-packages (from gdown>=3.10.1->deepface==0.0.79) (4.11.2)\n",
            "Requirement already satisfied: packaging in /usr/local/lib/python3.10/dist-packages (from gunicorn>=20.1.0->deepface==0.0.79) (23.1)\n",
            "Requirement already satisfied: python-dateutil>=2.8.1 in /usr/local/lib/python3.10/dist-packages (from pandas>=0.23.4->deepface==0.0.79) (2.8.2)\n",
            "Requirement already satisfied: pytz>=2020.1 in /usr/local/lib/python3.10/dist-packages (from pandas>=0.23.4->deepface==0.0.79) (2023.3)\n",
            "Requirement already satisfied: absl-py>=1.0.0 in /usr/local/lib/python3.10/dist-packages (from tensorflow>=1.9.0->deepface==0.0.79) (1.4.0)\n",
            "Requirement already satisfied: astunparse>=1.6.0 in /usr/local/lib/python3.10/dist-packages (from tensorflow>=1.9.0->deepface==0.0.79) (1.6.3)\n",
            "Requirement already satisfied: flatbuffers>=2.0 in /usr/local/lib/python3.10/dist-packages (from tensorflow>=1.9.0->deepface==0.0.79) (23.5.26)\n",
            "Requirement already satisfied: gast<=0.4.0,>=0.2.1 in /usr/local/lib/python3.10/dist-packages (from tensorflow>=1.9.0->deepface==0.0.79) (0.4.0)\n",
            "Requirement already satisfied: google-pasta>=0.1.1 in /usr/local/lib/python3.10/dist-packages (from tensorflow>=1.9.0->deepface==0.0.79) (0.2.0)\n",
            "Requirement already satisfied: grpcio<2.0,>=1.24.3 in /usr/local/lib/python3.10/dist-packages (from tensorflow>=1.9.0->deepface==0.0.79) (1.57.0)\n",
            "Requirement already satisfied: h5py>=2.9.0 in /usr/local/lib/python3.10/dist-packages (from tensorflow>=1.9.0->deepface==0.0.79) (3.9.0)\n",
            "Requirement already satisfied: jax>=0.3.15 in /usr/local/lib/python3.10/dist-packages (from tensorflow>=1.9.0->deepface==0.0.79) (0.4.14)\n",
            "Requirement already satisfied: libclang>=13.0.0 in /usr/local/lib/python3.10/dist-packages (from tensorflow>=1.9.0->deepface==0.0.79) (16.0.6)\n",
            "Requirement already satisfied: opt-einsum>=2.3.2 in /usr/local/lib/python3.10/dist-packages (from tensorflow>=1.9.0->deepface==0.0.79) (3.3.0)\n",
            "Requirement already satisfied: protobuf!=4.21.0,!=4.21.1,!=4.21.2,!=4.21.3,!=4.21.4,!=4.21.5,<5.0.0dev,>=3.20.3 in /usr/local/lib/python3.10/dist-packages (from tensorflow>=1.9.0->deepface==0.0.79) (3.20.3)\n",
            "Requirement already satisfied: setuptools in /usr/local/lib/python3.10/dist-packages (from tensorflow>=1.9.0->deepface==0.0.79) (67.7.2)\n",
            "Requirement already satisfied: tensorboard<2.13,>=2.12 in /usr/local/lib/python3.10/dist-packages (from tensorflow>=1.9.0->deepface==0.0.79) (2.12.3)\n",
            "Requirement already satisfied: tensorflow-estimator<2.13,>=2.12.0 in /usr/local/lib/python3.10/dist-packages (from tensorflow>=1.9.0->deepface==0.0.79) (2.12.0)\n",
            "Requirement already satisfied: typing-extensions>=3.6.6 in /usr/local/lib/python3.10/dist-packages (from tensorflow>=1.9.0->deepface==0.0.79) (4.7.1)\n",
            "Requirement already satisfied: tensorflow-io-gcs-filesystem>=0.23.1 in /usr/local/lib/python3.10/dist-packages (from tensorflow>=1.9.0->deepface==0.0.79) (0.33.0)\n",
            "Requirement already satisfied: wheel<1.0,>=0.23.0 in /usr/local/lib/python3.10/dist-packages (from astunparse>=1.6.0->tensorflow>=1.9.0->deepface==0.0.79) (0.41.2)\n",
            "Requirement already satisfied: ml-dtypes>=0.2.0 in /usr/local/lib/python3.10/dist-packages (from jax>=0.3.15->tensorflow>=1.9.0->deepface==0.0.79) (0.2.0)\n",
            "Requirement already satisfied: scipy>=1.7 in /usr/local/lib/python3.10/dist-packages (from jax>=0.3.15->tensorflow>=1.9.0->deepface==0.0.79) (1.10.1)\n",
            "Requirement already satisfied: MarkupSafe>=2.0 in /usr/local/lib/python3.10/dist-packages (from Jinja2>=3.0->Flask>=1.1.2->deepface==0.0.79) (2.1.3)\n",
            "Requirement already satisfied: google-auth<3,>=1.6.3 in /usr/local/lib/python3.10/dist-packages (from tensorboard<2.13,>=2.12->tensorflow>=1.9.0->deepface==0.0.79) (2.17.3)\n",
            "Requirement already satisfied: google-auth-oauthlib<1.1,>=0.5 in /usr/local/lib/python3.10/dist-packages (from tensorboard<2.13,>=2.12->tensorflow>=1.9.0->deepface==0.0.79) (1.0.0)\n",
            "Requirement already satisfied: markdown>=2.6.8 in /usr/local/lib/python3.10/dist-packages (from tensorboard<2.13,>=2.12->tensorflow>=1.9.0->deepface==0.0.79) (3.4.4)\n",
            "Requirement already satisfied: tensorboard-data-server<0.8.0,>=0.7.0 in /usr/local/lib/python3.10/dist-packages (from tensorboard<2.13,>=2.12->tensorflow>=1.9.0->deepface==0.0.79) (0.7.1)\n",
            "Requirement already satisfied: soupsieve>1.2 in /usr/local/lib/python3.10/dist-packages (from beautifulsoup4->gdown>=3.10.1->deepface==0.0.79) (2.4.1)\n",
            "Requirement already satisfied: charset-normalizer<4,>=2 in /usr/local/lib/python3.10/dist-packages (from requests[socks]->gdown>=3.10.1->deepface==0.0.79) (3.2.0)\n",
            "Requirement already satisfied: idna<4,>=2.5 in /usr/local/lib/python3.10/dist-packages (from requests[socks]->gdown>=3.10.1->deepface==0.0.79) (3.4)\n",
            "Requirement already satisfied: urllib3<3,>=1.21.1 in /usr/local/lib/python3.10/dist-packages (from requests[socks]->gdown>=3.10.1->deepface==0.0.79) (2.0.4)\n",
            "Requirement already satisfied: certifi>=2017.4.17 in /usr/local/lib/python3.10/dist-packages (from requests[socks]->gdown>=3.10.1->deepface==0.0.79) (2023.7.22)\n",
            "Requirement already satisfied: PySocks!=1.5.7,>=1.5.6 in /usr/local/lib/python3.10/dist-packages (from requests[socks]->gdown>=3.10.1->deepface==0.0.79) (1.7.1)\n",
            "Requirement already satisfied: cachetools<6.0,>=2.0.0 in /usr/local/lib/python3.10/dist-packages (from google-auth<3,>=1.6.3->tensorboard<2.13,>=2.12->tensorflow>=1.9.0->deepface==0.0.79) (5.3.1)\n",
            "Requirement already satisfied: pyasn1-modules>=0.2.1 in /usr/local/lib/python3.10/dist-packages (from google-auth<3,>=1.6.3->tensorboard<2.13,>=2.12->tensorflow>=1.9.0->deepface==0.0.79) (0.3.0)\n",
            "Requirement already satisfied: rsa<5,>=3.1.4 in /usr/local/lib/python3.10/dist-packages (from google-auth<3,>=1.6.3->tensorboard<2.13,>=2.12->tensorflow>=1.9.0->deepface==0.0.79) (4.9)\n",
            "Requirement already satisfied: requests-oauthlib>=0.7.0 in /usr/local/lib/python3.10/dist-packages (from google-auth-oauthlib<1.1,>=0.5->tensorboard<2.13,>=2.12->tensorflow>=1.9.0->deepface==0.0.79) (1.3.1)\n",
            "Requirement already satisfied: pyasn1<0.6.0,>=0.4.6 in /usr/local/lib/python3.10/dist-packages (from pyasn1-modules>=0.2.1->google-auth<3,>=1.6.3->tensorboard<2.13,>=2.12->tensorflow>=1.9.0->deepface==0.0.79) (0.5.0)\n",
            "Requirement already satisfied: oauthlib>=3.0.0 in /usr/local/lib/python3.10/dist-packages (from requests-oauthlib>=0.7.0->google-auth-oauthlib<1.1,>=0.5->tensorboard<2.13,>=2.12->tensorflow>=1.9.0->deepface==0.0.79) (3.2.2)\n",
            "Building wheels for collected packages: fire\n",
            "  Building wheel for fire (setup.py) ... \u001b[?25l\u001b[?25hdone\n",
            "  Created wheel for fire: filename=fire-0.5.0-py2.py3-none-any.whl size=116934 sha256=6fe7198b4c5efd9ec44c8b3edc3e4f84cc66bc994b87fcc259f5a903a7d46b88\n",
            "  Stored in directory: /root/.cache/pip/wheels/90/d4/f7/9404e5db0116bd4d43e5666eaa3e70ab53723e1e3ea40c9a95\n",
            "Successfully built fire\n",
            "Installing collected packages: gunicorn, fire, Deprecated, mtcnn, retina-face, deepface\n",
            "  Running setup.py develop for deepface\n",
            "Successfully installed Deprecated-1.2.14 deepface-0.0.79 fire-0.5.0 gunicorn-21.2.0 mtcnn-0.1.1 retina-face-0.0.13\n"
          ]
        }
      ],
      "source": [
        "!pip install -e ."
      ]
    },
    {
      "cell_type": "code",
      "execution_count": null,
      "metadata": {
        "colab": {
          "base_uri": "https://localhost:8080/"
        },
        "id": "z_V6XufzOWRz",
        "outputId": "434094eb-680c-409b-acb1-a864aff60a05"
      },
      "outputs": [
        {
          "output_type": "stream",
          "name": "stdout",
          "text": [
            "Directory  /root /.deepface created\n",
            "Directory  /root /.deepface/weights created\n"
          ]
        }
      ],
      "source": [
        "from deepface import DeepFace"
      ]
    },
    {
      "cell_type": "code",
      "execution_count": null,
      "metadata": {
        "id": "jv0d1cExLAfm"
      },
      "outputs": [],
      "source": [
        "import cv2\n",
        "import matplotlib.pyplot as plt\n",
        "import matplotlib.patches as patches\n",
        "import pandas as pd\n",
        "import numpy as np"
      ]
    },
    {
      "cell_type": "code",
      "execution_count": null,
      "metadata": {
        "colab": {
          "base_uri": "https://localhost:8080/"
        },
        "id": "ALukr0mTTAf6",
        "outputId": "46a3a44b-33bf-4eda-c424-aa13883fd9f9"
      },
      "outputs": [
        {
          "output_type": "stream",
          "name": "stdout",
          "text": [
            "Mounted at /content/drive\n"
          ]
        }
      ],
      "source": [
        "from google.colab import drive\n",
        "drive.mount('/content/drive')"
      ]
    },
    {
      "cell_type": "code",
      "execution_count": null,
      "metadata": {
        "colab": {
          "base_uri": "https://localhost:8080/",
          "height": 410
        },
        "id": "KetvfpHpr7zM",
        "outputId": "6249b87b-72da-45f3-805d-55dc9b41105c"
      },
      "outputs": [
        {
          "output_type": "error",
          "ename": "KeyboardInterrupt",
          "evalue": "ignored",
          "traceback": [
            "\u001b[0;31m---------------------------------------------------------------------------\u001b[0m",
            "\u001b[0;31mKeyboardInterrupt\u001b[0m                         Traceback (most recent call last)",
            "\u001b[0;32m<ipython-input-8-8bef9cc6d2ec>\u001b[0m in \u001b[0;36m<cell line: 13>\u001b[0;34m()\u001b[0m\n\u001b[1;32m     11\u001b[0m \u001b[0mimage_paths\u001b[0m \u001b[0;34m=\u001b[0m \u001b[0;34m[\u001b[0m\u001b[0;34m]\u001b[0m\u001b[0;34m\u001b[0m\u001b[0;34m\u001b[0m\u001b[0m\n\u001b[1;32m     12\u001b[0m \u001b[0;34m\u001b[0m\u001b[0m\n\u001b[0;32m---> 13\u001b[0;31m \u001b[0;32mfor\u001b[0m \u001b[0mdir_path\u001b[0m\u001b[0;34m,\u001b[0m \u001b[0m_\u001b[0m\u001b[0;34m,\u001b[0m \u001b[0mfile_names\u001b[0m \u001b[0;32min\u001b[0m \u001b[0mos\u001b[0m\u001b[0;34m.\u001b[0m\u001b[0mwalk\u001b[0m\u001b[0;34m(\u001b[0m\u001b[0mbase_dir\u001b[0m\u001b[0;34m)\u001b[0m\u001b[0;34m:\u001b[0m\u001b[0;34m\u001b[0m\u001b[0;34m\u001b[0m\u001b[0m\n\u001b[0m\u001b[1;32m     14\u001b[0m     \u001b[0;32mfor\u001b[0m \u001b[0mfile_name\u001b[0m \u001b[0;32min\u001b[0m \u001b[0mfile_names\u001b[0m\u001b[0;34m:\u001b[0m\u001b[0;34m\u001b[0m\u001b[0;34m\u001b[0m\u001b[0m\n\u001b[1;32m     15\u001b[0m         \u001b[0;32mif\u001b[0m \u001b[0mfile_name\u001b[0m\u001b[0;34m.\u001b[0m\u001b[0mlower\u001b[0m\u001b[0;34m(\u001b[0m\u001b[0;34m)\u001b[0m\u001b[0;34m.\u001b[0m\u001b[0mendswith\u001b[0m\u001b[0;34m(\u001b[0m\u001b[0;34m'.jpg'\u001b[0m\u001b[0;34m)\u001b[0m\u001b[0;34m:\u001b[0m\u001b[0;34m\u001b[0m\u001b[0;34m\u001b[0m\u001b[0m\n",
            "\u001b[0;32m/usr/lib/python3.10/os.py\u001b[0m in \u001b[0;36m_walk\u001b[0;34m(top, topdown, onerror, followlinks)\u001b[0m\n\u001b[1;32m    417\u001b[0m             \u001b[0;31m# above.\u001b[0m\u001b[0;34m\u001b[0m\u001b[0;34m\u001b[0m\u001b[0m\n\u001b[1;32m    418\u001b[0m             \u001b[0;32mif\u001b[0m \u001b[0mfollowlinks\u001b[0m \u001b[0;32mor\u001b[0m \u001b[0;32mnot\u001b[0m \u001b[0mislink\u001b[0m\u001b[0;34m(\u001b[0m\u001b[0mnew_path\u001b[0m\u001b[0;34m)\u001b[0m\u001b[0;34m:\u001b[0m\u001b[0;34m\u001b[0m\u001b[0;34m\u001b[0m\u001b[0m\n\u001b[0;32m--> 419\u001b[0;31m                 \u001b[0;32myield\u001b[0m \u001b[0;32mfrom\u001b[0m \u001b[0m_walk\u001b[0m\u001b[0;34m(\u001b[0m\u001b[0mnew_path\u001b[0m\u001b[0;34m,\u001b[0m \u001b[0mtopdown\u001b[0m\u001b[0;34m,\u001b[0m \u001b[0monerror\u001b[0m\u001b[0;34m,\u001b[0m \u001b[0mfollowlinks\u001b[0m\u001b[0;34m)\u001b[0m\u001b[0;34m\u001b[0m\u001b[0;34m\u001b[0m\u001b[0m\n\u001b[0m\u001b[1;32m    420\u001b[0m     \u001b[0;32melse\u001b[0m\u001b[0;34m:\u001b[0m\u001b[0;34m\u001b[0m\u001b[0;34m\u001b[0m\u001b[0m\n\u001b[1;32m    421\u001b[0m         \u001b[0;31m# Recurse into sub-directories\u001b[0m\u001b[0;34m\u001b[0m\u001b[0;34m\u001b[0m\u001b[0m\n",
            "\u001b[0;32m/usr/lib/python3.10/os.py\u001b[0m in \u001b[0;36m_walk\u001b[0;34m(top, topdown, onerror, followlinks)\u001b[0m\n\u001b[1;32m    356\u001b[0m         \u001b[0;31m# Note that scandir is global in this module due\u001b[0m\u001b[0;34m\u001b[0m\u001b[0;34m\u001b[0m\u001b[0m\n\u001b[1;32m    357\u001b[0m         \u001b[0;31m# to earlier import-*.\u001b[0m\u001b[0;34m\u001b[0m\u001b[0;34m\u001b[0m\u001b[0m\n\u001b[0;32m--> 358\u001b[0;31m         \u001b[0mscandir_it\u001b[0m \u001b[0;34m=\u001b[0m \u001b[0mscandir\u001b[0m\u001b[0;34m(\u001b[0m\u001b[0mtop\u001b[0m\u001b[0;34m)\u001b[0m\u001b[0;34m\u001b[0m\u001b[0;34m\u001b[0m\u001b[0m\n\u001b[0m\u001b[1;32m    359\u001b[0m     \u001b[0;32mexcept\u001b[0m \u001b[0mOSError\u001b[0m \u001b[0;32mas\u001b[0m \u001b[0merror\u001b[0m\u001b[0;34m:\u001b[0m\u001b[0;34m\u001b[0m\u001b[0;34m\u001b[0m\u001b[0m\n\u001b[1;32m    360\u001b[0m         \u001b[0;32mif\u001b[0m \u001b[0monerror\u001b[0m \u001b[0;32mis\u001b[0m \u001b[0;32mnot\u001b[0m \u001b[0;32mNone\u001b[0m\u001b[0;34m:\u001b[0m\u001b[0;34m\u001b[0m\u001b[0;34m\u001b[0m\u001b[0m\n",
            "\u001b[0;31mKeyboardInterrupt\u001b[0m: "
          ]
        }
      ],
      "source": [
        "# 얼굴 감지 실패한 이미지 찾기. 안해도 됨\n",
        "\n",
        "import os\n",
        "from tqdm import tqdm\n",
        "from deepface import DeepFace\n",
        "\n",
        "# 디렉토리 경로 설정\n",
        "base_dir = '/content/drive/MyDrive/dataset/aihub/aihub/'\n",
        "\n",
        "# 모든 디렉토리를 반복하며 이미지 파일 경로 수집\n",
        "image_paths = []\n",
        "\n",
        "for dir_path, _, file_names in os.walk(base_dir):\n",
        "    for file_name in file_names:\n",
        "        if file_name.lower().endswith('.jpg'):\n",
        "            image_paths.append(os.path.join(dir_path, file_name))\n",
        "\n",
        "# 얼굴 감지 실패한 이미지 찾기\n",
        "failed_detection_images = []\n",
        "\n",
        "for img_path in tqdm(image_paths, desc=\"Processing images\"):\n",
        "    try:\n",
        "        face_detected = DeepFace.extract_faces(img_path, detector_backend='dlib')\n",
        "        if face_detected is None:\n",
        "            failed_detection_images.append(img_path)\n",
        "    except Exception as e:\n",
        "        print(f\"Error processing {img_path}: {str(e)}\")\n",
        "\n",
        "# 얼굴 감지가 실패한 이미지 출력\n",
        "if failed_detection_images:\n",
        "    print(\"Failed to detect face in the following images:\")\n",
        "    for img_path in failed_detection_images:\n",
        "        print(img_path)\n",
        "else:\n",
        "    print(\"All images were successfully detected.\")\n"
      ]
    },
    {
      "cell_type": "code",
      "execution_count": null,
      "metadata": {
        "colab": {
          "base_uri": "https://localhost:8080/"
        },
        "id": "tlEDkpXTzHvv",
        "outputId": "bdbb1c8f-5e70-4689-80c9-38afbb18317a"
      },
      "outputs": [
        {
          "output_type": "stream",
          "name": "stderr",
          "text": [
            "\r  0%|          | 0/800 [00:00<?, ?it/s]"
          ]
        },
        {
          "output_type": "stream",
          "name": "stdout",
          "text": [
            "shape_predictor_5_face_landmarks.dat.bz2 is going to be downloaded\n"
          ]
        },
        {
          "output_type": "stream",
          "name": "stderr",
          "text": [
            "Downloading...\n",
            "From: http://dlib.net/files/shape_predictor_5_face_landmarks.dat.bz2\n",
            "To: /root/.deepface/weights/shape_predictor_5_face_landmarks.dat.bz2\n",
            "\n",
            "  0%|          | 0.00/5.71M [00:00<?, ?B/s]\u001b[A\n",
            "  9%|▉         | 524k/5.71M [00:00<00:08, 577kB/s]\u001b[A\n",
            " 18%|█▊        | 1.05M/5.71M [00:01<00:04, 1.02MB/s]\u001b[A\n",
            " 28%|██▊       | 1.57M/5.71M [00:01<00:03, 1.37MB/s]\u001b[A\n",
            " 37%|███▋      | 2.10M/5.71M [00:01<00:02, 1.63MB/s]\u001b[A\n",
            " 46%|████▌     | 2.62M/5.71M [00:01<00:01, 1.83MB/s]\u001b[A\n",
            "100%|██████████| 5.71M/5.71M [00:02<00:00, 2.72MB/s]\n"
          ]
        },
        {
          "output_type": "stream",
          "name": "stdout",
          "text": [
            "vgg_face_weights.h5 will be downloaded...\n"
          ]
        },
        {
          "output_type": "stream",
          "name": "stderr",
          "text": [
            "Downloading...\n",
            "From: https://drive.google.com/uc?id=1fJQtAr3g8PUBP51y_fXNNOmXh_VpAelU\n",
            "To: /root/.deepface/weights/vgg_face_weights.h5\n",
            "\n",
            "  0%|          | 0.00/580M [00:00<?, ?B/s]\u001b[A\n",
            "  1%|          | 4.72M/580M [00:00<00:13, 43.9MB/s]\u001b[A\n",
            "  3%|▎         | 18.9M/580M [00:00<00:05, 98.2MB/s]\u001b[A\n",
            "  5%|▍         | 28.8M/580M [00:00<00:06, 91.2MB/s]\u001b[A\n",
            "  7%|▋         | 38.3M/580M [00:00<00:07, 74.8MB/s]\u001b[A\n",
            "  8%|▊         | 46.7M/580M [00:00<00:09, 58.7MB/s]\u001b[A\n",
            " 11%|█         | 64.0M/580M [00:00<00:05, 86.4MB/s]\u001b[A\n",
            " 14%|█▎        | 79.7M/580M [00:00<00:04, 104MB/s] \u001b[A\n",
            " 16%|█▌        | 91.8M/580M [00:01<00:04, 107MB/s]\u001b[A\n",
            " 18%|█▊        | 105M/580M [00:01<00:04, 115MB/s] \u001b[A\n",
            " 20%|██        | 118M/580M [00:01<00:04, 104MB/s]\u001b[A\n",
            " 22%|██▏       | 129M/580M [00:01<00:04, 105MB/s]\u001b[A\n",
            " 24%|██▍       | 141M/580M [00:01<00:06, 63.5MB/s]\u001b[A\n",
            " 26%|██▌       | 152M/580M [00:02<00:08, 52.8MB/s]\u001b[A\n",
            " 29%|██▉       | 168M/580M [00:02<00:06, 64.6MB/s]\u001b[A\n",
            " 32%|███▏      | 185M/580M [00:02<00:05, 71.3MB/s]\u001b[A\n",
            " 35%|███▍      | 202M/580M [00:02<00:04, 84.6MB/s]\u001b[A\n",
            " 37%|███▋      | 212M/580M [00:02<00:04, 85.6MB/s]\u001b[A\n",
            " 38%|███▊      | 223M/580M [00:02<00:03, 90.6MB/s]\u001b[A\n",
            " 40%|████      | 233M/580M [00:02<00:05, 67.6MB/s]\u001b[A\n",
            " 42%|████▏     | 241M/580M [00:03<00:05, 64.2MB/s]\u001b[A\n",
            " 43%|████▎     | 252M/580M [00:03<00:04, 70.5MB/s]\u001b[A\n",
            " 47%|████▋     | 273M/580M [00:03<00:03, 99.2MB/s]\u001b[A\n",
            " 49%|████▉     | 285M/580M [00:03<00:03, 95.0MB/s]\u001b[A\n",
            " 52%|█████▏    | 303M/580M [00:03<00:02, 107MB/s] \u001b[A\n",
            " 54%|█████▍    | 315M/580M [00:03<00:02, 108MB/s]\u001b[A\n",
            " 56%|█████▋    | 328M/580M [00:03<00:02, 101MB/s]\u001b[A\n",
            " 59%|█████▉    | 342M/580M [00:03<00:02, 110MB/s]\u001b[A\n",
            " 61%|██████    | 353M/580M [00:04<00:02, 86.4MB/s]\u001b[A\n",
            " 63%|██████▎   | 363M/580M [00:04<00:02, 78.7MB/s]\u001b[A\n",
            " 66%|██████▌   | 383M/580M [00:04<00:01, 103MB/s] \u001b[A\n",
            " 68%|██████▊   | 395M/580M [00:04<00:01, 106MB/s]\u001b[A\n",
            " 70%|███████   | 407M/580M [00:04<00:01, 99.8MB/s]\u001b[A\n",
            " 72%|███████▏  | 420M/580M [00:04<00:02, 79.5MB/s]\u001b[A\n",
            " 76%|███████▌  | 439M/580M [00:05<00:01, 103MB/s] \u001b[A\n",
            " 78%|███████▊  | 452M/580M [00:05<00:01, 76.7MB/s]\u001b[A\n",
            " 82%|████████▏ | 473M/580M [00:05<00:01, 101MB/s] \u001b[A\n",
            " 84%|████████▍ | 486M/580M [00:05<00:00, 95.2MB/s]\u001b[A\n",
            " 86%|████████▋ | 501M/580M [00:05<00:00, 106MB/s] \u001b[A\n",
            " 88%|████████▊ | 513M/580M [00:06<00:00, 69.6MB/s]\u001b[A\n",
            " 90%|█████████ | 523M/580M [00:06<00:00, 74.3MB/s]\u001b[A\n",
            " 92%|█████████▏| 533M/580M [00:06<00:00, 61.3MB/s]\u001b[A\n",
            " 94%|█████████▍| 544M/580M [00:06<00:00, 69.8MB/s]\u001b[A\n",
            " 95%|█████████▌| 553M/580M [00:06<00:00, 63.1MB/s]\u001b[A\n",
            " 97%|█████████▋| 561M/580M [00:06<00:00, 55.9MB/s]\u001b[A\n",
            " 98%|█████████▊| 568M/580M [00:06<00:00, 56.2MB/s]\u001b[A\n",
            "100%|██████████| 580M/580M [00:07<00:00, 80.4MB/s]\n",
            "100%|██████████| 800/800 [22:34<00:00,  1.69s/it]"
          ]
        },
        {
          "output_type": "stream",
          "name": "stdout",
          "text": [
            "All pairs processed.\n"
          ]
        },
        {
          "output_type": "stream",
          "name": "stderr",
          "text": [
            "\n"
          ]
        }
      ],
      "source": [
        "import os\n",
        "import random\n",
        "from tqdm import tqdm\n",
        "\n",
        "# 디렉토리 경로 설정\n",
        "base_dir = '/content/drive/MyDrive/dataset/aihub/aihub/'\n",
        "\n",
        "# 이미지 파일 경로 수집\n",
        "image_paths = []\n",
        "\n",
        "for dir_path, _, file_names in os.walk(base_dir):\n",
        "    for file_name in file_names:\n",
        "        if file_name.lower().endswith('.jpg'):\n",
        "            image_paths.append(os.path.join(dir_path, file_name))\n",
        "\n",
        "# 이미지 쌍을 생성하고 클래스 레이블을 할당하는 함수\n",
        "def generate_image_pairs(image_paths, num_pairs):\n",
        "    image_pairs = []\n",
        "\n",
        "    for _ in range(num_pairs):\n",
        "        # 랜덤하게 한 명의 사람을 선택\n",
        "        person_dir = random.choice(image_paths)\n",
        "\n",
        "        # 해당 사람의 이미지 리스트 생성\n",
        "        person_images = [img for img in image_paths if os.path.dirname(img) == os.path.dirname(person_dir)]\n",
        "\n",
        "        # positive pair 생성\n",
        "        img1, img2 = random.sample(person_images, 2)\n",
        "        image_pairs.append((img1, img2, 0))  # 클래스 레이블 0은 positive pair를 나타냅니다.\n",
        "\n",
        "        # negative pair 생성\n",
        "        other_people = [img for img in image_paths if os.path.dirname(img) != os.path.dirname(person_dir)]\n",
        "        img1, img2 = random.sample(other_people, 2)\n",
        "        image_pairs.append((img1, img2, 1))  # 클래스 레이블 1은 negative pair를 나타냅니다.\n",
        "\n",
        "    return image_pairs\n",
        "\n",
        "# 딕셔너리로 결과 저장\n",
        "results = []\n",
        "\n",
        "# 이미지 쌍 생성 및 클래스 레이블 할당\n",
        "num_pairs = 400  # 각각 400개의 positive 및 negative pair를 생성\n",
        "image_pairs = generate_image_pairs(image_paths, num_pairs)\n",
        "\n",
        "# DeepFace.verify를 이용하여 벡터 간 거리 계산\n",
        "for idx, pair in enumerate(tqdm(image_pairs), start=1):\n",
        "    img1, img2, class_label = pair\n",
        "\n",
        "    # 이미지 간 거리 계산\n",
        "    result = DeepFace.verify(img1, img2, model_name='VGG-Face', detector_backend='dlib', distance_metric='euclidean_l2')\n",
        "    distance = result['distance']\n",
        "\n",
        "    # 결과를 리스트에 저장\n",
        "    results.append({'distance': distance, 'class_label': class_label})\n",
        "\n",
        "print(\"All pairs processed.\")\n"
      ]
    },
    {
      "cell_type": "code",
      "execution_count": null,
      "metadata": {
        "colab": {
          "base_uri": "https://localhost:8080/"
        },
        "id": "lCpZaxFA-g7K",
        "outputId": "b22000bb-aa72-4273-c5c9-30b11fa7e57c"
      },
      "outputs": [
        {
          "data": {
            "text/plain": [
              "[]"
            ]
          },
          "execution_count": 8,
          "metadata": {},
          "output_type": "execute_result"
        }
      ],
      "source": [
        "results"
      ]
    },
    {
      "cell_type": "code",
      "execution_count": null,
      "metadata": {
        "id": "VscRIghK5ccD"
      },
      "outputs": [],
      "source": [
        "# 안해도 됨\n",
        "\n",
        "import pandas as pd\n",
        "# 결과 데이터를 DataFrame으로 변환\n",
        "df = pd.DataFrame(results)\n",
        "\n",
        "# CSV 파일로 저장\n",
        "csv_filename = '/content/drive/MyDrive/result.csv'\n",
        "df.to_csv(csv_filename, index=False)"
      ]
    },
    {
      "cell_type": "code",
      "execution_count": null,
      "metadata": {
        "id": "43LzQ3OV71Vy"
      },
      "outputs": [],
      "source": [
        "# 안해도 됨\n",
        "\n",
        "df = pd.read_csv('/content/drive/MyDrive/result.csv')"
      ]
    },
    {
      "cell_type": "code",
      "execution_count": null,
      "metadata": {
        "id": "iNbus06c7-tB"
      },
      "outputs": [],
      "source": [
        "# 안해도 됨\n",
        "\n",
        "# class가 0이고 distance가 9 이상인 행 제거\n",
        "df = df.drop(df[(df['class_label'] == 0) & (df['distance'] >= 9)].index)\n",
        "\n",
        "# class가 1이고 distance가 5 이하인 행 제거\n",
        "df = df.drop(df[(df['class_label'] == 1) & (df['distance'] <= 5)].index)"
      ]
    },
    {
      "cell_type": "code",
      "execution_count": null,
      "metadata": {
        "id": "dDv0Ldsf8z7a"
      },
      "outputs": [],
      "source": [
        "# 안해도 됨\n",
        "\n",
        "results = df.to_dict(orient='records')"
      ]
    },
    {
      "cell_type": "code",
      "execution_count": null,
      "metadata": {
        "colab": {
          "base_uri": "https://localhost:8080/",
          "height": 564
        },
        "id": "5uRApPGKSOU7",
        "outputId": "5e4c631f-a2e5-450e-a9a3-2238148879d8"
      },
      "outputs": [
        {
          "output_type": "display_data",
          "data": {
            "text/plain": [
              "<Figure size 1000x600 with 1 Axes>"
            ],
            "image/png": "[encoded data removed]"
          },
          "metadata": {}
        }
      ],
      "source": [
        "import matplotlib.pyplot as plt\n",
        "import numpy as np\n",
        "\n",
        "# 결과에서 거리와 클래스 정보 추출\n",
        "distances = [result['distance'] for result in results]\n",
        "class_labels = [result['class_label'] for result in results]\n",
        "\n",
        "# 클래스별로 거리를 저장할 리스트 생성\n",
        "same_class_distances = []\n",
        "different_class_distances = []\n",
        "\n",
        "# 클래스 별로 거리 분류\n",
        "for i in range(len(results)):\n",
        "    if class_labels[i] == 0:\n",
        "        same_class_distances.append(distances[i])\n",
        "    else:\n",
        "        different_class_distances.append(distances[i])\n",
        "\n",
        "# 클래스 별 거리 평균 계산\n",
        "avg_same_class_distance = np.mean(same_class_distances)\n",
        "avg_different_class_distance = np.mean(different_class_distances)\n",
        "\n",
        "# 결정 경계 설정 (평균 거리의 중간값)\n",
        "decision_boundary = (avg_same_class_distance + avg_different_class_distance) / 2\n",
        "\n",
        "# 결과 시각화\n",
        "plt.figure(figsize=(10, 6))\n",
        "\n",
        "plt.hist(same_class_distances, bins=50, alpha=0.5, label='Same Class')\n",
        "plt.hist(different_class_distances, bins=50, alpha=0.5, label='Different Class')\n",
        "\n",
        "plt.axvline(x=decision_boundary, color='r', linestyle='--', label='Decision Boundary')\n",
        "\n",
        "plt.xlabel('Distance')\n",
        "plt.ylabel('Frequency')\n",
        "plt.title('Distribution of Distances with Decision Boundary')\n",
        "plt.legend()\n",
        "\n",
        "plt.show()\n"
      ]
    },
    {
      "cell_type": "code",
      "execution_count": null,
      "metadata": {
        "colab": {
          "base_uri": "https://localhost:8080/",
          "height": 467
        },
        "id": "O3iDv4tc_bGz",
        "outputId": "1dd6de42-0c79-4a98-d457-93670488399c"
      },
      "outputs": [
        {
          "name": "stdout",
          "output_type": "stream",
          "text": [
            "Accuracy: 0.54375\n"
          ]
        },
        {
          "data": {
            "image/png": "[encoded data removed]",
            "text/plain": [
              "<Figure size 640x480 with 1 Axes>"
            ]
          },
          "metadata": {},
          "output_type": "display_data"
        }
      ],
      "source": [
        "import numpy as np\n",
        "import matplotlib.pyplot as plt\n",
        "from sklearn import svm\n",
        "from sklearn.model_selection import train_test_split\n",
        "from sklearn.metrics import accuracy_score\n",
        "\n",
        "# 결과 데이터를 numpy 배열로 변환\n",
        "data = np.array([(entry['distance'], entry['class_label']) for entry in results])\n",
        "\n",
        "# 특성과 레이블 분리\n",
        "X = data[:, 0].reshape(-1, 1)  # distance\n",
        "y = data[:, 1].astype(int)      # class_label\n",
        "\n",
        "# 데이터를 훈련 세트와 테스트 세트로 분할\n",
        "X_train, X_test, y_train, y_test = train_test_split(X, y, test_size=0.2, random_state=42)\n",
        "\n",
        "# SVM 모델 생성\n",
        "clf = svm.SVC(kernel='linear')\n",
        "clf.fit(X_train, y_train)\n",
        "\n",
        "# 테스트 데이터로 예측\n",
        "y_pred = clf.predict(X_test)\n",
        "\n",
        "# 정확도 출력\n",
        "accuracy = accuracy_score(y_test, y_pred)\n",
        "print(\"Accuracy:\", accuracy)\n",
        "\n",
        "# SVM 모델 시각화\n",
        "plt.scatter(X[y == 0], y[y == 0], color='blue', s=5, label='Class 0')\n",
        "plt.scatter(X[y == 1], y[y == 1], color='red', s=5, label='Class 1')\n",
        "\n",
        "# 결정 경계 플로팅\n",
        "ax = plt.gca()\n",
        "xlim = ax.get_xlim()\n",
        "ylim = ax.get_ylim()\n",
        "\n",
        "# 결정 경계 생성\n",
        "xx = np.linspace(xlim[0], xlim[1])\n",
        "yy = clf.decision_function(xx.reshape(-1, 1))\n",
        "a = -clf.coef_[0] / clf.coef_[0][0]\n",
        "yy = a * xx - (clf.intercept_[0]) / clf.coef_[0][0]\n",
        "\n",
        "# 결정 경계 플로팅\n",
        "plt.plot(xx, yy, color='black', linewidth=1, label='SVM Boundary')\n",
        "\n",
        "# 눈금 설정\n",
        "plt.xticks(np.arange(int(xlim[0]), int(xlim[1]) + 1, 1))\n",
        "plt.yticks([0, 1])\n",
        "\n",
        "plt.xlabel('Distance')\n",
        "plt.ylabel('Class Label')\n",
        "plt.ylim(-0.1, 1.1)\n",
        "plt.legend()\n",
        "plt.show()\n"
      ]
    },
    {
      "cell_type": "code",
      "execution_count": null,
      "metadata": {
        "id": "I59qnkDTA50k"
      },
      "outputs": [],
      "source": []
    }
  ],
  "metadata": {
    "accelerator": "GPU",
    "colab": {
      "machine_shape": "hm",
      "provenance": []
    },
    "kernelspec": {
      "display_name": "Python 3",
      "name": "python3"
    },
    "language_info": {
      "name": "python"
    }
  },
  "nbformat": 4,
  "nbformat_minor": 0
}